{
  "nbformat": 4,
  "nbformat_minor": 0,
  "metadata": {
    "colab": {
      "provenance": [],
      "authorship_tag": "ABX9TyOA+uirWyoilwld6z+ppVxG",
      "include_colab_link": true
    },
    "kernelspec": {
      "name": "python3",
      "display_name": "Python 3"
    },
    "language_info": {
      "name": "python"
    }
  },
  "cells": [
    {
      "cell_type": "markdown",
      "metadata": {
        "id": "view-in-github",
        "colab_type": "text"
      },
      "source": [
        "<a href=\"https://colab.research.google.com/github/sujalarora19/AI_Generated_Text_Detection/blob/main/LargeDataModel.ipynb\" target=\"_parent\"><img src=\"https://colab.research.google.com/assets/colab-badge.svg\" alt=\"Open In Colab\"/></a>"
      ]
    },
    {
      "cell_type": "code",
      "execution_count": null,
      "metadata": {
        "id": "_6fETJBOgH3v"
      },
      "outputs": [],
      "source": [
        "import pandas as pd\n",
        "import xgboost as xgb\n",
        "import pandas as pd\n",
        "import numpy as np\n",
        "import matplotlib.pyplot as plt\n",
        "from sklearn.model_selection import train_test_split\n",
        "from sklearn.preprocessing import OrdinalEncoder, StandardScaler"
      ]
    },
    {
      "cell_type": "code",
      "source": [
        "df_data = pd.read_csv('Dataset.csv')\n",
        "df=df_data.copy()\n",
        "df.drop_duplicates(subset='domain',inplace=True)\n",
        "df.rename(columns={'price':'currbid'},inplace=True)\n",
        "df.drop(axis=1, columns=['priority_score'], inplace=True)\n"
      ],
      "metadata": {
        "id": "Ga7-TAw7gZVo"
      },
      "execution_count": null,
      "outputs": []
    },
    {
      "cell_type": "code",
      "source": [
        "df.info()"
      ],
      "metadata": {
        "colab": {
          "base_uri": "https://localhost:8080/"
        },
        "id": "hPQlBuv-g-OK",
        "outputId": "158d013f-160d-413d-b072-514be4422541"
      },
      "execution_count": null,
      "outputs": [
        {
          "output_type": "stream",
          "name": "stdout",
          "text": [
            "<class 'pandas.core.frame.DataFrame'>\n",
            "RangeIndex: 785962 entries, 0 to 785961\n",
            "Data columns (total 31 columns):\n",
            " #   Column                            Non-Null Count   Dtype  \n",
            "---  ------                            --------------   -----  \n",
            " 0   domain                            785962 non-null  object \n",
            " 1   category                          785962 non-null  object \n",
            " 2   words                             785962 non-null  object \n",
            " 3   suffix                            785962 non-null  object \n",
            " 4   whois_registrar                   785962 non-null  object \n",
            " 5   extensions_taken                  785962 non-null  int64  \n",
            " 6   search_ad_competition_broad_term  785962 non-null  int64  \n",
            " 7   search_ad_competition_exact_term  785962 non-null  int64  \n",
            " 8   search_cpc_broad_term             785962 non-null  float64\n",
            " 9   search_cpc_exact_term             785962 non-null  float64\n",
            " 10  search_results_sld                785962 non-null  int64  \n",
            " 11  search_results_term               785962 non-null  int64  \n",
            " 12  search_volume_broad_term          785962 non-null  int64  \n",
            " 13  search_volume_exact_term          785962 non-null  int64  \n",
            " 14  tld_count                         785962 non-null  int64  \n",
            " 15  wayback_age                       785962 non-null  int64  \n",
            " 16  wayback_records                   785962 non-null  int64  \n",
            " 17  whois_age                         785962 non-null  int64  \n",
            " 18  age_yr                            785962 non-null  float64\n",
            " 19  Length                            785962 non-null  int64  \n",
            " 20  Special_chars                     785962 non-null  int64  \n",
            " 21  Letters                           785962 non-null  int64  \n",
            " 22  Upper_case                        785962 non-null  int64  \n",
            " 23  Lower_case                        785962 non-null  int64  \n",
            " 24  Vowels                            785962 non-null  int64  \n",
            " 25  Consonants                        785962 non-null  int64  \n",
            " 26  Numbers                           785962 non-null  int64  \n",
            " 27  word_ratio                        785962 non-null  float64\n",
            " 28  pronounceability_score            785962 non-null  float64\n",
            " 29  appraised_wholesale_value         785962 non-null  float64\n",
            " 30  currbid                           785962 non-null  int64  \n",
            "dtypes: float64(6), int64(20), object(5)\n",
            "memory usage: 185.9+ MB\n"
          ]
        }
      ]
    },
    {
      "cell_type": "markdown",
      "source": [
        "All are non-null \\\n",
        "No imputer needed"
      ],
      "metadata": {
        "id": "UX4Rd29ihLNm"
      }
    },
    {
      "cell_type": "code",
      "source": [
        "index_cols = ['domain',\"currbid\"]\n",
        "df[\"log_currbid\"] = np.log1p(df[\"currbid\"])  # log(1 + x) avoids log(0)\n",
        "target_col = 'log_currbid'"
      ],
      "metadata": {
        "id": "pyLBq8rqhKH0"
      },
      "execution_count": null,
      "outputs": []
    },
    {
      "cell_type": "code",
      "source": [
        "categorical_cols = [col for col in df.select_dtypes(include=['object']).columns if col not in index_cols]\n",
        "numerical_cols = df.select_dtypes(include=['int64', 'float64']).columns.tolist()\n",
        "numerical_cols.remove(target_col)\n",
        "for i in index_cols:\n",
        "  if i in numerical_cols:\n",
        "    numerical_cols.remove(i)\n",
        "\n",
        "# df[categorical_cols] = df[categorical_cols].fillna('<unk>')"
      ],
      "metadata": {
        "id": "ikqk_-21hA-8"
      },
      "execution_count": null,
      "outputs": []
    },
    {
      "cell_type": "code",
      "source": [
        "X = df[numerical_cols + categorical_cols]\n",
        "\n",
        "y = df[target_col]\n",
        "\n",
        "X_train, X_test, y_train, y_test = train_test_split(X, y, test_size=0.3, random_state=42)\n",
        "\n",
        "\n",
        "\n",
        "encoder = OrdinalEncoder(handle_unknown='use_encoded_value', unknown_value=-1)\n",
        "X_train[categorical_cols] = encoder.fit_transform(X_train[categorical_cols])\n",
        "X_test[categorical_cols] = encoder.transform(X_test[categorical_cols])\n",
        "\n",
        "\n",
        "# num_imputer = SimpleImputer(strategy='mean')\n",
        "# X_train[numerical_cols] = num_imputer.fit_transform(X_train[numerical_cols])\n",
        "# X_test[numerical_cols] = num_imputer.transform(X_test[numerical_cols])\n",
        "\n",
        "\n",
        "scaler = StandardScaler()\n",
        "X_train[numerical_cols] = scaler.fit_transform(X_train[numerical_cols])\n",
        "X_test[numerical_cols] = scaler.transform(X_test[numerical_cols])"
      ],
      "metadata": {
        "id": "2XaXxSDQh7ub"
      },
      "execution_count": null,
      "outputs": []
    },
    {
      "cell_type": "code",
      "source": [
        "\n",
        "dtrain = xgb.DMatrix(X_train, label=y_train)\n",
        "dtest = xgb.DMatrix(X_test, label=y_test)\n",
        "\n",
        "\n",
        "params = {\n",
        "    'objective': 'reg:squarederror',\n",
        "    'learning_rate': 0.1,\n",
        "    'max_depth': 7,\n",
        "    'min_child_weight': 1,\n",
        "    'subsample': 0.9,\n",
        "    'colsample_bytree': 0.9,\n",
        "    'eval_metric': ['rmse','mae']\n",
        "}\n",
        "\n",
        "evals_result = {}\n",
        "xgb_model = xgb.train(\n",
        "    params,\n",
        "    dtrain,\n",
        "    num_boost_round=100,\n",
        "    evals=[(dtrain, \"train\"), (dtest, \"test\")],\n",
        "    early_stopping_rounds=20,\n",
        "    evals_result=evals_result,\n",
        "    verbose_eval=False\n",
        ")\n",
        "\n",
        "train_rmse = evals_result['train']['rmse']\n",
        "test_rmse = evals_result['test']['rmse']\n",
        "\n",
        "train_mae = evals_result['train']['mae']\n",
        "test_mae = evals_result['test']['mae']\n",
        "\n",
        "# print(f\"Final Train RMSE: {train_rmse[-1]}\")\n",
        "# print(f\"Final Validation RMSE: {test_rmse[-1]}\")\n",
        "# print(f\"Final Train MAE: {train_mae[-1]}\")\n",
        "# print(f\"Final Validation MAE: {test_mae[-1]}\")\n"
      ],
      "metadata": {
        "id": "XSpFNlTFitga"
      },
      "execution_count": null,
      "outputs": []
    },
    {
      "cell_type": "markdown",
      "source": [
        "## Since I am using the log method to avoid any -ve prediction, I need to calculate the mae rmse manually"
      ],
      "metadata": {
        "id": "5jveQiCvj4GV"
      }
    },
    {
      "cell_type": "code",
      "source": [
        "\n",
        "from sklearn.metrics import mean_squared_error, mean_absolute_error\n",
        "\n",
        "# Predict on test set (log scale)\n",
        "log_preds = xgb_model.predict(dtest)\n",
        "\n",
        "# Convert predictions and true labels back to original scale\n",
        "preds_actual = np.expm1(log_preds)\n",
        "true_actual = np.expm1(y_test.values)  # since you log1p'd y, reverse it too\n",
        "\n",
        "# Compute real-world metrics\n",
        "real_rmse = np.sqrt(mean_squared_error(true_actual, preds_actual))\n",
        "real_mae = mean_absolute_error(true_actual, preds_actual)\n",
        "\n",
        "print(\"\\n--- Final Evaluation in Original Scale (exp(log_preds)) ---\")\n",
        "print(f\"Real RMSE: {real_rmse:.2f}\")\n",
        "print(f\"Real MAE: {real_mae:.2f}\")\n",
        "\n",
        "real_rmse_per_round = []\n",
        "real_mae_per_round = []\n",
        "\n",
        "for i in range(1, len(train_rmse) + 1):\n",
        "    preds_log = xgb_model.predict(dtest, iteration_range=(0, i))\n",
        "    preds_actual = np.expm1(preds_log)\n",
        "    true_actual = np.expm1(y_test.values)\n",
        "\n",
        "    rmse = np.sqrt(mean_squared_error(true_actual, preds_actual))\n",
        "    mae = mean_absolute_error(true_actual, preds_actual)\n",
        "\n",
        "    real_rmse_per_round.append(rmse)\n",
        "    real_mae_per_round.append(mae)\n",
        "plt.figure(figsize=(8, 5))\n",
        "plt.plot(real_mae_per_round, label=\"Real MAE (L1)\", color='blue')\n",
        "plt.plot(real_rmse_per_round, label=\"Real RMSE (L2)\", color='red')\n",
        "plt.xlabel(\"Iterations\")\n",
        "plt.ylabel(\"Error in Original Scale\")\n",
        "plt.title(\"Real-Scale MAE & RMSE per Iteration\")\n",
        "plt.legend()\n",
        "plt.show()\n"
      ],
      "metadata": {
        "colab": {
          "base_uri": "https://localhost:8080/",
          "height": 556
        },
        "id": "ktskEU1vi7Mm",
        "outputId": "a6fc083f-c231-47c7-cd18-34fa75945fb2"
      },
      "execution_count": null,
      "outputs": [
        {
          "output_type": "stream",
          "name": "stdout",
          "text": [
            "\n",
            "--- Final Evaluation in Original Scale (exp(log_preds)) ---\n",
            "Real RMSE: 243.12\n",
            "Real MAE: 25.03\n"
          ]
        },
        {
          "output_type": "display_data",
          "data": {
            "text/plain": [
              "<Figure size 800x500 with 1 Axes>"
            ],
            "image/png": "[encoded data removed]"
          },
          "metadata": {}
        }
      ]
    },
    {
      "cell_type": "code",
      "source": [],
      "metadata": {
        "id": "e8h_jp76jn6G"
      },
      "execution_count": null,
      "outputs": []
    }
  ]
}