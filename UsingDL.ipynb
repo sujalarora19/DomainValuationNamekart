{
  "nbformat": 4,
  "nbformat_minor": 0,
  "metadata": {
    "colab": {
      "provenance": [],
      "gpuType": "T4",
      "include_colab_link": true
    },
    "kernelspec": {
      "name": "python3",
      "display_name": "Python 3"
    },
    "language_info": {
      "name": "python"
    },
    "accelerator": "GPU"
  },
  "cells": [
    {
      "cell_type": "markdown",
      "metadata": {
        "id": "view-in-github",
        "colab_type": "text"
      },
      "source": [
        "<a href=\"https://colab.research.google.com/github/sujalarora19/DomainValuationNamekart/blob/main/UsingDL.ipynb\" target=\"_parent\"><img src=\"https://colab.research.google.com/assets/colab-badge.svg\" alt=\"Open In Colab\"/></a>"
      ]
    },
    {
      "cell_type": "code",
      "execution_count": 1,
      "metadata": {
        "id": "_6fETJBOgH3v"
      },
      "outputs": [],
      "source": [
        "import pandas as pd\n",
        "import xgboost as xgb\n",
        "import pandas as pd\n",
        "import numpy as np\n",
        "import matplotlib.pyplot as plt\n",
        "from sklearn.model_selection import train_test_split\n",
        "from sklearn.preprocessing import OrdinalEncoder, StandardScaler"
      ]
    },
    {
      "cell_type": "markdown",
      "source": [],
      "metadata": {
        "id": "Cupa3vEVwL6J"
      }
    },
    {
      "cell_type": "code",
      "source": [
        "df_data = pd.read_csv('Dataset.csv')\n",
        "df=df_data.copy()\n",
        "df.drop_duplicates(subset='domain',inplace=True)\n",
        "df.rename(columns={'price':'currbid'},inplace=True)\n",
        "df.drop(axis=1, columns=['priority_score','words'], inplace=True)\n"
      ],
      "metadata": {
        "id": "Ga7-TAw7gZVo"
      },
      "execution_count": 2,
      "outputs": []
    },
    {
      "cell_type": "code",
      "source": [
        "df.info()"
      ],
      "metadata": {
        "colab": {
          "base_uri": "https://localhost:8080/"
        },
        "id": "hPQlBuv-g-OK",
        "outputId": "4a3bea42-20eb-4825-ec06-73206985874d"
      },
      "execution_count": 3,
      "outputs": [
        {
          "output_type": "stream",
          "name": "stdout",
          "text": [
            "<class 'pandas.core.frame.DataFrame'>\n",
            "RangeIndex: 785962 entries, 0 to 785961\n",
            "Data columns (total 30 columns):\n",
            " #   Column                            Non-Null Count   Dtype  \n",
            "---  ------                            --------------   -----  \n",
            " 0   domain                            785962 non-null  object \n",
            " 1   category                          785962 non-null  object \n",
            " 2   suffix                            785962 non-null  object \n",
            " 3   whois_registrar                   785962 non-null  object \n",
            " 4   extensions_taken                  785962 non-null  int64  \n",
            " 5   search_ad_competition_broad_term  785962 non-null  int64  \n",
            " 6   search_ad_competition_exact_term  785962 non-null  int64  \n",
            " 7   search_cpc_broad_term             785962 non-null  float64\n",
            " 8   search_cpc_exact_term             785962 non-null  float64\n",
            " 9   search_results_sld                785962 non-null  int64  \n",
            " 10  search_results_term               785962 non-null  int64  \n",
            " 11  search_volume_broad_term          785962 non-null  int64  \n",
            " 12  search_volume_exact_term          785962 non-null  int64  \n",
            " 13  tld_count                         785962 non-null  int64  \n",
            " 14  wayback_age                       785962 non-null  int64  \n",
            " 15  wayback_records                   785962 non-null  int64  \n",
            " 16  whois_age                         785962 non-null  int64  \n",
            " 17  age_yr                            785962 non-null  float64\n",
            " 18  Length                            785962 non-null  int64  \n",
            " 19  Special_chars                     785962 non-null  int64  \n",
            " 20  Letters                           785962 non-null  int64  \n",
            " 21  Upper_case                        785962 non-null  int64  \n",
            " 22  Lower_case                        785962 non-null  int64  \n",
            " 23  Vowels                            785962 non-null  int64  \n",
            " 24  Consonants                        785962 non-null  int64  \n",
            " 25  Numbers                           785962 non-null  int64  \n",
            " 26  word_ratio                        785962 non-null  float64\n",
            " 27  pronounceability_score            785962 non-null  float64\n",
            " 28  appraised_wholesale_value         785962 non-null  float64\n",
            " 29  currbid                           785962 non-null  int64  \n",
            "dtypes: float64(6), int64(20), object(4)\n",
            "memory usage: 179.9+ MB\n"
          ]
        }
      ]
    },
    {
      "cell_type": "markdown",
      "source": [
        "All are non-null \\\n",
        "No imputer needed"
      ],
      "metadata": {
        "id": "UX4Rd29ihLNm"
      }
    },
    {
      "cell_type": "code",
      "source": [
        "index_cols = ['domain',\"currbid\"]\n",
        "df[\"log_currbid\"] = np.log1p(df[\"currbid\"])  # log(1 + x) avoids log(0)\n",
        "target_col = 'log_currbid'"
      ],
      "metadata": {
        "id": "pyLBq8rqhKH0"
      },
      "execution_count": 4,
      "outputs": []
    },
    {
      "cell_type": "code",
      "source": [
        "\n",
        "categorical_cols = [col for col in df.select_dtypes(include=['object']).columns if col not in index_cols]\n",
        "numerical_cols = df.select_dtypes(include=['int64', 'float64']).columns.tolist()\n",
        "numerical_cols.remove(target_col)\n",
        "for i in index_cols:\n",
        "  if i in numerical_cols:\n",
        "    numerical_cols.remove(i)\n",
        "\n",
        "# df[categorical_cols] = df[categorical_cols].fillna('<unk>')"
      ],
      "metadata": {
        "id": "ikqk_-21hA-8"
      },
      "execution_count": 5,
      "outputs": []
    },
    {
      "cell_type": "code",
      "source": [
        "X = df[numerical_cols + categorical_cols]\n",
        "\n",
        "y = df[target_col]\n",
        "\n",
        "X_train, X_test, y_train, y_test = train_test_split(X, y, test_size=0.3, random_state=42)\n",
        "\n",
        "\n",
        "\n",
        "encoder = OrdinalEncoder(handle_unknown='use_encoded_value', unknown_value=-1)\n",
        "X_train[categorical_cols] = encoder.fit_transform(X_train[categorical_cols])\n",
        "X_test[categorical_cols] = encoder.transform(X_test[categorical_cols])\n",
        "\n",
        "\n",
        "# num_imputer = SimpleImputer(strategy='mean')\n",
        "# X_train[numerical_cols] = num_imputer.fit_transform(X_train[numerical_cols])\n",
        "# X_test[numerical_cols] = num_imputer.transform(X_test[numerical_cols])\n",
        "\n",
        "\n",
        "scaler = StandardScaler()\n",
        "X_train[numerical_cols] = scaler.fit_transform(X_train[numerical_cols])\n",
        "X_test[numerical_cols] = scaler.transform(X_test[numerical_cols])"
      ],
      "metadata": {
        "id": "2XaXxSDQh7ub"
      },
      "execution_count": 6,
      "outputs": []
    },
    {
      "cell_type": "code",
      "source": [
        "import torch\n",
        "import torch.nn as nn\n",
        "from torch.utils.data import Dataset, DataLoader\n",
        "import numpy as np\n",
        "\n",
        "# Set device\n",
        "device = torch.device(\"cuda\" if torch.cuda.is_available() else \"cpu\")\n",
        "\n",
        "# Custom Dataset\n",
        "class TabularDataset(Dataset):\n",
        "    def __init__(self, X, y):\n",
        "        self.X = torch.tensor(X.values, dtype=torch.float32)\n",
        "        self.y = torch.tensor(y.values, dtype=torch.float32).unsqueeze(1)\n",
        "\n",
        "    def __len__(self):\n",
        "        return len(self.X)\n",
        "\n",
        "    def __getitem__(self, idx):\n",
        "        return self.X[idx], self.y[idx]\n",
        "\n",
        "train_dataset = TabularDataset(X_train, y_train)\n",
        "test_dataset = TabularDataset(X_test, y_test)\n",
        "\n",
        "train_loader = DataLoader(train_dataset, batch_size=512, shuffle=True)\n",
        "test_loader = DataLoader(test_dataset, batch_size=512)\n"
      ],
      "metadata": {
        "id": "XSpFNlTFitga"
      },
      "execution_count": 7,
      "outputs": []
    },
    {
      "cell_type": "code",
      "source": [
        "class MLPRegressor(nn.Module):\n",
        "    def __init__(self, input_dim):\n",
        "        super(MLPRegressor, self).__init__()\n",
        "        self.model = nn.Sequential(\n",
        "            nn.Linear(input_dim, 128),\n",
        "            nn.ReLU(),\n",
        "            nn.BatchNorm1d(128),\n",
        "            nn.Linear(128, 64),\n",
        "            nn.ReLU(),\n",
        "            nn.BatchNorm1d(64),\n",
        "            nn.Linear(64, 1)\n",
        "        )\n",
        "\n",
        "    def forward(self, x):\n",
        "        return self.model(x)\n",
        "\n",
        "model = MLPRegressor(X_train.shape[1]).to(device)\n"
      ],
      "metadata": {
        "id": "G5v5s772w-TI"
      },
      "execution_count": 8,
      "outputs": []
    },
    {
      "cell_type": "code",
      "source": [
        "criterion = nn.MSELoss()\n",
        "optimizer = torch.optim.Adam(model.parameters(), lr=1e-3)\n",
        "\n",
        "def train_model(model, loader):\n",
        "    model.train()\n",
        "    total_loss = 0\n",
        "    for X_batch, y_batch in loader:\n",
        "        X_batch, y_batch = X_batch.to(device), y_batch.to(device)\n",
        "\n",
        "        optimizer.zero_grad()\n",
        "        outputs = model(X_batch)\n",
        "        loss = criterion(outputs, y_batch)\n",
        "        loss.backward()\n",
        "        optimizer.step()\n",
        "\n",
        "        total_loss += loss.item()\n",
        "    return total_loss / len(loader)\n",
        "\n",
        "def evaluate_model(model, loader):\n",
        "    model.eval()\n",
        "    predictions, targets = [], []\n",
        "    with torch.no_grad():\n",
        "        for X_batch, y_batch in loader:\n",
        "            X_batch = X_batch.to(device)\n",
        "            outputs = model(X_batch)\n",
        "            predictions.append(outputs.cpu())\n",
        "            targets.append(y_batch)\n",
        "\n",
        "    preds = torch.cat(predictions).squeeze().numpy()\n",
        "    trues = torch.cat(targets).squeeze().numpy()\n",
        "    return preds, trues\n"
      ],
      "metadata": {
        "id": "J3Rjx4Vrw-rB"
      },
      "execution_count": 9,
      "outputs": []
    },
    {
      "cell_type": "code",
      "source": [
        "for epoch in range(9):\n",
        "    train_loss = train_model(model, train_loader)\n",
        "    print(f\"Epoch {epoch+1}, Train Loss: {train_loss:.4f}\")\n",
        "\n",
        "log_preds, log_trues = evaluate_model(model, test_loader)\n",
        "\n",
        "# Convert from log scale\n",
        "preds_actual = np.expm1(log_preds)\n",
        "true_actual = np.expm1(log_trues)\n"
      ],
      "metadata": {
        "id": "BZoWWlbOxAO9",
        "outputId": "7578e601-09cf-4bff-987d-5f1e866cffbd",
        "colab": {
          "base_uri": "https://localhost:8080/"
        }
      },
      "execution_count": 13,
      "outputs": [
        {
          "output_type": "stream",
          "name": "stdout",
          "text": [
            "Epoch 1, Train Loss: 0.3020\n",
            "Epoch 2, Train Loss: 0.3540\n",
            "Epoch 3, Train Loss: 0.2786\n",
            "Epoch 4, Train Loss: 0.2754\n",
            "Epoch 5, Train Loss: 0.2813\n",
            "Epoch 6, Train Loss: 0.2863\n",
            "Epoch 7, Train Loss: 0.2797\n",
            "Epoch 8, Train Loss: 0.2650\n",
            "Epoch 9, Train Loss: 0.2661\n"
          ]
        }
      ]
    },
    {
      "cell_type": "code",
      "source": [
        "from sklearn.metrics import mean_squared_error, mean_absolute_error\n",
        "real_rmse = np.sqrt(mean_squared_error(true_actual, preds_actual))\n",
        "real_mae = mean_absolute_error(true_actual, preds_actual)\n",
        "\n",
        "print(f\"Real RMSE: {real_rmse:.2f}\")\n",
        "print(f\"Real MAE: {real_mae:.2f}\")"
      ],
      "metadata": {
        "id": "74Dhasc6xDIN",
        "outputId": "28e89a86-cbf9-4c68-e633-6323da121d03",
        "colab": {
          "base_uri": "https://localhost:8080/"
        }
      },
      "execution_count": 15,
      "outputs": [
        {
          "output_type": "stream",
          "name": "stdout",
          "text": [
            "Real RMSE: 3158.69\n",
            "Real MAE: 70.72\n"
          ]
        }
      ]
    },
    {
      "cell_type": "code",
      "source": [],
      "metadata": {
        "id": "syOUsRLGxgsi"
      },
      "execution_count": null,
      "outputs": []
    }
  ]
}